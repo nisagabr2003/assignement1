{
  "nbformat": 4,
  "nbformat_minor": 0,
  "metadata": {
    "colab": {
      "provenance": []
    },
    "kernelspec": {
      "name": "python3",
      "display_name": "Python 3"
    },
    "language_info": {
      "name": "python"
    }
  },
  "cells": [
    {
      "cell_type": "markdown",
      "source": [
        "1. Understanding Variables\n",
        "\n",
        "a) Define a variable in python.provide an example  of how to create a variable that stores your name.\n",
        "  Ans: It's that named location in memory that stores and manipulates data values like string,tuple etc.\n",
        "   name = \"nisarga\" , name is a variable\n",
        "\n",
        "b) What is difference between a variable and a constant?can we have constants in python?\n",
        " Ans: Variable : variable changes it's value depending upon equation.\n",
        "      Constant:  It does not change it's value as the equation is solved.\n",
        "      \n",
        "\n",
        "2. Working with data types\n",
        "\n",
        "a) Create variables of the following types in python:\n",
        "   1. Integer\n",
        "   2. Float\n",
        "   3. String\n",
        "   4. Boolean"
      ],
      "metadata": {
        "id": "9HZTm0fDyUhS"
      }
    },
    {
      "cell_type": "markdown",
      "source": [
        "1. Integer"
      ],
      "metadata": {
        "id": "ce9gvYJq2cMG"
      }
    },
    {
      "cell_type": "code",
      "source": [
        "year = 2025\n",
        "print(year)"
      ],
      "metadata": {
        "colab": {
          "base_uri": "https://localhost:8080/"
        },
        "id": "6jSmG-RL2aMs",
        "outputId": "ac0a68a1-6588-48f7-c988-bcf28ae14045"
      },
      "execution_count": 8,
      "outputs": [
        {
          "output_type": "stream",
          "name": "stdout",
          "text": [
            "2025\n"
          ]
        }
      ]
    },
    {
      "cell_type": "markdown",
      "source": [
        "  2. Float"
      ],
      "metadata": {
        "id": "3JD2bqsL3qUy"
      }
    },
    {
      "cell_type": "code",
      "source": [
        "weight = 3.14\n",
        "print(weight)"
      ],
      "metadata": {
        "colab": {
          "base_uri": "https://localhost:8080/"
        },
        "id": "JuK55dN63vcl",
        "outputId": "88b1e8d6-8d74-4b15-8276-c2c6cbc1478e"
      },
      "execution_count": 9,
      "outputs": [
        {
          "output_type": "stream",
          "name": "stdout",
          "text": [
            "3.14\n"
          ]
        }
      ]
    },
    {
      "cell_type": "markdown",
      "source": [
        " 3. String"
      ],
      "metadata": {
        "id": "pdjAqyL546fx"
      }
    },
    {
      "cell_type": "code",
      "source": [
        "name = \"nisarga\"\n",
        "print(name)"
      ],
      "metadata": {
        "colab": {
          "base_uri": "https://localhost:8080/"
        },
        "id": "G8qZacwK4-q-",
        "outputId": "71fa939d-d7b2-4446-e8d1-a6239c662e91"
      },
      "execution_count": 11,
      "outputs": [
        {
          "output_type": "stream",
          "name": "stdout",
          "text": [
            "nisarga\n"
          ]
        }
      ]
    },
    {
      "cell_type": "markdown",
      "source": [
        "4 . Boolean"
      ],
      "metadata": {
        "id": "6Gu9W_cm5-4e"
      }
    },
    {
      "cell_type": "code",
      "source": [
        "my_variable = True\n",
        "print(my_variable)"
      ],
      "metadata": {
        "colab": {
          "base_uri": "https://localhost:8080/"
        },
        "id": "CpDbkgW26DKA",
        "outputId": "9362a517-6be0-4ddb-8d31-2108eda7db91"
      },
      "execution_count": 12,
      "outputs": [
        {
          "output_type": "stream",
          "name": "stdout",
          "text": [
            "True\n"
          ]
        }
      ]
    },
    {
      "cell_type": "markdown",
      "source": [
        "2 b) Write a python script to display the type of each variable you created.\n",
        "   "
      ],
      "metadata": {
        "id": "uExAW-F26mBU"
      }
    },
    {
      "cell_type": "code",
      "source": [
        "r = 4\n",
        "s = 7\n",
        "y = \"Hello, Python!\"\n",
        "my_variable = True\n",
        "my_list = [2,3,4]\n",
        "my_tuple = (5,6,7)\n",
        "my_dict = {\"name\": \"nisarga\", \"age\": 21}\n",
        "print(\"type of r:\", type(r))\n",
        "print(\"type of s:\", type(s))\n",
        "print(\"type of y:\", type(y))\n",
        "print(\"type of my_variable:\", type(my_variable))\n",
        "print(\"type of my_list:\", type(my_list))\n",
        "print(\"type of my_tuple:\", type(my_tuple))\n",
        "print(\"type of my_dict:\", type(my_dict))"
      ],
      "metadata": {
        "colab": {
          "base_uri": "https://localhost:8080/"
        },
        "id": "jlOdBp4f7oFo",
        "outputId": "3fc0c1db-3a4d-4f13-f4f6-30e360efc475"
      },
      "execution_count": 13,
      "outputs": [
        {
          "output_type": "stream",
          "name": "stdout",
          "text": [
            "type of r: <class 'int'>\n",
            "type of s: <class 'int'>\n",
            "type of y: <class 'str'>\n",
            "type of my_variable: <class 'bool'>\n",
            "type of my_list: <class 'list'>\n",
            "type of my_tuple: <class 'tuple'>\n",
            "type of my_dict: <class 'dict'>\n"
          ]
        }
      ]
    },
    {
      "cell_type": "markdown",
      "source": [
        "3. Arithmetic Operations\n",
        "\n",
        "a) explain the following arithmetic operations with examples:\n",
        "  1. Addition('+')\n",
        "  2. Subtraction('-')\n",
        "  3. Multipication('*')\n",
        "  4. Division('/')\n",
        "  5. floor division('//')\n",
        "  6. Modulus('%')\n",
        "  7. Expoentiation('')"
      ],
      "metadata": {
        "id": "705Y8M5w95FH"
      }
    },
    {
      "cell_type": "markdown",
      "source": [
        "1. Addition"
      ],
      "metadata": {
        "id": "eEwcvSoy-okp"
      }
    },
    {
      "cell_type": "code",
      "source": [
        "a = 14\n",
        "b = 10\n",
        "print(a+b)"
      ],
      "metadata": {
        "colab": {
          "base_uri": "https://localhost:8080/"
        },
        "id": "Fe_82w8b-qv9",
        "outputId": "e394b233-0b8c-46e8-fc48-c101a013856a"
      },
      "execution_count": 14,
      "outputs": [
        {
          "output_type": "stream",
          "name": "stdout",
          "text": [
            "24\n"
          ]
        }
      ]
    },
    {
      "cell_type": "markdown",
      "source": [
        "2. Subtraction"
      ],
      "metadata": {
        "id": "f78tOYz1-0ea"
      }
    },
    {
      "cell_type": "code",
      "source": [
        "a = 14\n",
        "b = 10\n",
        "print(a-b)"
      ],
      "metadata": {
        "colab": {
          "base_uri": "https://localhost:8080/"
        },
        "id": "SXDjikmM-4o9",
        "outputId": "c616f5a3-4bc3-4f6b-d5b5-44172011db6c"
      },
      "execution_count": 16,
      "outputs": [
        {
          "output_type": "stream",
          "name": "stdout",
          "text": [
            "4\n"
          ]
        }
      ]
    },
    {
      "cell_type": "markdown",
      "source": [
        "3. Multiplication"
      ],
      "metadata": {
        "id": "Fu4CQ_EQ-_oP"
      }
    },
    {
      "cell_type": "code",
      "source": [
        "a = 14\n",
        "b = 10\n",
        "print(a*b)"
      ],
      "metadata": {
        "colab": {
          "base_uri": "https://localhost:8080/"
        },
        "id": "ZSFpYzsA_Dko",
        "outputId": "6b458fee-d121-43cc-a194-446120517f76"
      },
      "execution_count": 17,
      "outputs": [
        {
          "output_type": "stream",
          "name": "stdout",
          "text": [
            "140\n"
          ]
        }
      ]
    },
    {
      "cell_type": "markdown",
      "source": [
        "4. Division"
      ],
      "metadata": {
        "id": "L1KTDqc__KN3"
      }
    },
    {
      "cell_type": "code",
      "source": [
        "a = 20\n",
        "b = 2\n",
        "print(a/b)"
      ],
      "metadata": {
        "colab": {
          "base_uri": "https://localhost:8080/"
        },
        "id": "qbX_BRuO_NK-",
        "outputId": "c0dcfbbc-bef7-4948-ea60-0511dfdc60f7"
      },
      "execution_count": 18,
      "outputs": [
        {
          "output_type": "stream",
          "name": "stdout",
          "text": [
            "10.0\n"
          ]
        }
      ]
    },
    {
      "cell_type": "markdown",
      "source": [
        "5. Floor Division"
      ],
      "metadata": {
        "id": "lJo_bDHS_XOy"
      }
    },
    {
      "cell_type": "code",
      "source": [
        "a = 110.89\n",
        "b = 20.23\n",
        "print(a//b)"
      ],
      "metadata": {
        "colab": {
          "base_uri": "https://localhost:8080/"
        },
        "id": "biA5V5fM_cS-",
        "outputId": "c2d5cd1d-28f3-40a0-d25e-e18581146a13"
      },
      "execution_count": 23,
      "outputs": [
        {
          "output_type": "stream",
          "name": "stdout",
          "text": [
            "5.0\n"
          ]
        }
      ]
    },
    {
      "cell_type": "markdown",
      "source": [
        "6. Modulus"
      ],
      "metadata": {
        "id": "DeEqWpL5_s5e"
      }
    },
    {
      "cell_type": "code",
      "source": [
        "a = 56\n",
        "b = 67\n",
        "print(a%b)"
      ],
      "metadata": {
        "colab": {
          "base_uri": "https://localhost:8080/"
        },
        "id": "9pJOAZXp_vjk",
        "outputId": "1d1891af-00b6-4eca-d4be-3f2ee7cf4662"
      },
      "execution_count": 24,
      "outputs": [
        {
          "output_type": "stream",
          "name": "stdout",
          "text": [
            "56\n"
          ]
        }
      ]
    },
    {
      "cell_type": "markdown",
      "source": [
        "7. Exponentiation"
      ],
      "metadata": {
        "id": "rynGZlAA_2ZI"
      }
    },
    {
      "cell_type": "code",
      "source": [
        "a =  120\n",
        "b = 2\n",
        "print(a**b)"
      ],
      "metadata": {
        "colab": {
          "base_uri": "https://localhost:8080/"
        },
        "id": "6JHETMyA_8D8",
        "outputId": "6d9a9997-9fb1-4bc1-d80f-b299f8b41591"
      },
      "execution_count": 25,
      "outputs": [
        {
          "output_type": "stream",
          "name": "stdout",
          "text": [
            "14400\n"
          ]
        }
      ]
    },
    {
      "cell_type": "markdown",
      "source": [
        "b) Write a python script to calculate the area of a rectangle using variables 'length' and 'width' with value 5and10,respectively.use the multiplication operator."
      ],
      "metadata": {
        "id": "XqB0OfVAAOuW"
      }
    },
    {
      "cell_type": "code",
      "source": [
        "length = 5\n",
        "width = 10\n",
        "area = length*width\n",
        "print(\"area of the rectangle:\",area)"
      ],
      "metadata": {
        "colab": {
          "base_uri": "https://localhost:8080/"
        },
        "id": "shYQRj0fAqh8",
        "outputId": "e8506d7c-2e4c-4a36-bfc7-236871cdf451"
      },
      "execution_count": 26,
      "outputs": [
        {
          "output_type": "stream",
          "name": "stdout",
          "text": [
            "area of the rectangle: 50\n"
          ]
        }
      ]
    },
    {
      "cell_type": "markdown",
      "source": [
        "4. comparision and logical operators\n",
        "\n",
        "a) Explain the following comparison operators with examples:\n",
        " 1. Equal to('==')\n",
        " 2. Not equal('!=')\n",
        " 3. Greater than('<')\n",
        " 4. less than('>')\n",
        " 5. greater than or equal to('>=\")\n",
        " 6. less than or equal to('<=')\n",
        ""
      ],
      "metadata": {
        "id": "xfuFqGhqBI3K"
      }
    },
    {
      "cell_type": "markdown",
      "source": [
        "1. Equal to"
      ],
      "metadata": {
        "id": "cu9uOcYWB8in"
      }
    },
    {
      "cell_type": "code",
      "source": [
        "a = 2\n",
        "b = 2\n",
        "print(a==b)"
      ],
      "metadata": {
        "colab": {
          "base_uri": "https://localhost:8080/"
        },
        "id": "XOFT7iydCAJA",
        "outputId": "82dcbe30-291e-4923-a66e-0444f1ea00ca"
      },
      "execution_count": 28,
      "outputs": [
        {
          "output_type": "stream",
          "name": "stdout",
          "text": [
            "True\n"
          ]
        }
      ]
    },
    {
      "cell_type": "markdown",
      "source": [
        "2. Not equal to"
      ],
      "metadata": {
        "id": "phOqcz6NCJK_"
      }
    },
    {
      "cell_type": "code",
      "source": [
        "a = 3\n",
        "b = 4\n",
        "print(a!=b)"
      ],
      "metadata": {
        "colab": {
          "base_uri": "https://localhost:8080/"
        },
        "id": "e-ox-7APCNuH",
        "outputId": "a55ac1ff-1656-443d-c6c3-ec8c0485d11b"
      },
      "execution_count": 29,
      "outputs": [
        {
          "output_type": "stream",
          "name": "stdout",
          "text": [
            "True\n"
          ]
        }
      ]
    },
    {
      "cell_type": "markdown",
      "source": [
        "3. Greater than"
      ],
      "metadata": {
        "id": "X9wZonfDCfjT"
      }
    },
    {
      "cell_type": "code",
      "source": [
        "a = 10\n",
        "b = 8\n",
        "print(a>b)"
      ],
      "metadata": {
        "colab": {
          "base_uri": "https://localhost:8080/"
        },
        "id": "GL0Ygkg5Ci1L",
        "outputId": "8d904a68-9072-4aaf-a698-4d85e1eb988b"
      },
      "execution_count": 31,
      "outputs": [
        {
          "output_type": "stream",
          "name": "stdout",
          "text": [
            "True\n"
          ]
        }
      ]
    },
    {
      "cell_type": "markdown",
      "source": [
        "4. Less than"
      ],
      "metadata": {
        "id": "VaYPsw6oCtA-"
      }
    },
    {
      "cell_type": "code",
      "source": [
        "a = 10\n",
        "b = 41\n",
        "print(a<b)"
      ],
      "metadata": {
        "colab": {
          "base_uri": "https://localhost:8080/"
        },
        "id": "4Tt6y-e-CvDE",
        "outputId": "66abe4f4-931c-4b87-f557-4333a19aa5a6"
      },
      "execution_count": 33,
      "outputs": [
        {
          "output_type": "stream",
          "name": "stdout",
          "text": [
            "True\n"
          ]
        }
      ]
    },
    {
      "cell_type": "markdown",
      "source": [
        "5. Greater than or equal to"
      ],
      "metadata": {
        "id": "o2lVYs2qC8mh"
      }
    },
    {
      "cell_type": "code",
      "source": [
        "a = 400\n",
        "b = 300\n",
        "print(a>=b)"
      ],
      "metadata": {
        "colab": {
          "base_uri": "https://localhost:8080/"
        },
        "id": "oh5uf6bEDBXf",
        "outputId": "e0cb4b9f-6ef7-4eca-cf59-7da94b0ce9a1"
      },
      "execution_count": 34,
      "outputs": [
        {
          "output_type": "stream",
          "name": "stdout",
          "text": [
            "True\n"
          ]
        }
      ]
    },
    {
      "cell_type": "markdown",
      "source": [
        "6. less than or equal to"
      ],
      "metadata": {
        "id": "GamtmtpSDLA1"
      }
    },
    {
      "cell_type": "code",
      "source": [
        "a = 500\n",
        "b = 1000\n",
        "print(a<=b)"
      ],
      "metadata": {
        "colab": {
          "base_uri": "https://localhost:8080/"
        },
        "id": "aO1iI3JCDPdl",
        "outputId": "05da2dc1-0704-47e6-87e5-68d7c1007e77"
      },
      "execution_count": 35,
      "outputs": [
        {
          "output_type": "stream",
          "name": "stdout",
          "text": [
            "True\n"
          ]
        }
      ]
    },
    {
      "cell_type": "markdown",
      "source": [
        "b) Using logical operations ('and','or','not'),write a python script that checks if a number is positive andeven"
      ],
      "metadata": {
        "id": "_SaGwhgHDXUp"
      }
    },
    {
      "cell_type": "code",
      "source": [
        "num = int(input(\"enter a number:\"))\n",
        "if num>0 and num%2 == 0:\n",
        "   print(\"the number is positive and even.\")\n",
        "else:\n",
        "    print(\"the number is not positive and even.\")"
      ],
      "metadata": {
        "colab": {
          "base_uri": "https://localhost:8080/"
        },
        "id": "k1jdf9TdDxo8",
        "outputId": "ae4a41f6-b2ff-4e89-f72a-3466bc5342d0"
      },
      "execution_count": 40,
      "outputs": [
        {
          "output_type": "stream",
          "name": "stdout",
          "text": [
            "enter a number:20\n",
            "the number is positive and even.\n"
          ]
        }
      ]
    },
    {
      "cell_type": "markdown",
      "source": [
        "5. Type casting in Python\n",
        "\n",
        "a)What is type casting?Explain the difference between implicit and explicit type casting with examples.\n",
        " Ans: It convert variable data type into certain data type.\n",
        "\n",
        "   Implicit:value of one data type is automatically converted to another data type, without explicit casting.\n",
        "   \n",
        "   Explicit: When a value is explicitly converted from one data type to another using a casting operator."
      ],
      "metadata": {
        "id": "SLbysdpjFO9D"
      }
    },
    {
      "cell_type": "markdown",
      "source": [
        "b) Write a python script that:\n",
        " 1. Converts a float to an integer.\n",
        " 2. Converts an integer to a string.\n",
        " 3. Converts a string to a float"
      ],
      "metadata": {
        "id": "sJR6rQlPJfkA"
      }
    },
    {
      "cell_type": "markdown",
      "source": [
        "1. Converts a float to an integer."
      ],
      "metadata": {
        "id": "vpu0EKREKAqg"
      }
    },
    {
      "cell_type": "code",
      "source": [
        "float_num = 3.14\n",
        "int_num = int(float_num)\n",
        "print(int_num)"
      ],
      "metadata": {
        "colab": {
          "base_uri": "https://localhost:8080/"
        },
        "id": "CbYyUw22KDB-",
        "outputId": "53c3d976-205d-45a0-94ee-0431508c1849"
      },
      "execution_count": 41,
      "outputs": [
        {
          "output_type": "stream",
          "name": "stdout",
          "text": [
            "3\n"
          ]
        }
      ]
    },
    {
      "cell_type": "markdown",
      "source": [
        "2. Converts an integer to a string."
      ],
      "metadata": {
        "id": "MhLocSrvKej_"
      }
    },
    {
      "cell_type": "code",
      "source": [
        "int_num = 10\n",
        "str_num = str(int_num)\n",
        "print(str_num)"
      ],
      "metadata": {
        "colab": {
          "base_uri": "https://localhost:8080/"
        },
        "id": "QHAfvehUKiou",
        "outputId": "6755497f-4966-42d5-9a95-5f6b9db2f0b7"
      },
      "execution_count": 44,
      "outputs": [
        {
          "output_type": "stream",
          "name": "stdout",
          "text": [
            "10\n"
          ]
        }
      ]
    },
    {
      "cell_type": "markdown",
      "source": [
        "3. Converts a string to a float"
      ],
      "metadata": {
        "id": "epZGdoiKLIdw"
      }
    },
    {
      "cell_type": "code",
      "source": [
        "str_num = 200\n",
        "float_num = float(str_num)\n",
        "print(float_num)"
      ],
      "metadata": {
        "colab": {
          "base_uri": "https://localhost:8080/"
        },
        "id": "hzJATn2DLKmW",
        "outputId": "2e93de1f-2e35-4612-e6c2-6831af52a553"
      },
      "execution_count": 45,
      "outputs": [
        {
          "output_type": "stream",
          "name": "stdout",
          "text": [
            "200.0\n"
          ]
        }
      ]
    },
    {
      "cell_type": "markdown",
      "source": [
        "6. Write a python script that  asks the user to input tow numbers and then:\n",
        "\n",
        "a. Add the two numbers and prints the result.\n",
        "\n",
        "b. Subtracts the second number from the first and prints the results.\n",
        "\n",
        "c. Multiplies the two numbers and prints the results.\n",
        "\n",
        "d. divides the first number by the second and prints the result(handle division by zero).\n",
        "\n",
        "e. converts the sum of the numbers to a string and prints the type og the results."
      ],
      "metadata": {
        "id": "8MEgme3MLl_l"
      }
    },
    {
      "cell_type": "markdown",
      "source": [
        " 1. Add the two numbers and prints the result."
      ],
      "metadata": {
        "id": "qyq-BJ19Mq5O"
      }
    },
    {
      "cell_type": "code",
      "source": [
        "num1 = 500\n",
        "num2 = 1000\n",
        "result = num1 + num2\n",
        "print(\"the result is :\",result)"
      ],
      "metadata": {
        "colab": {
          "base_uri": "https://localhost:8080/"
        },
        "id": "oQp9pfuiMs_j",
        "outputId": "e7894d53-4d7d-4044-9175-0f4778171b07"
      },
      "execution_count": 47,
      "outputs": [
        {
          "output_type": "stream",
          "name": "stdout",
          "text": [
            "the result is : 1500\n"
          ]
        }
      ]
    },
    {
      "cell_type": "markdown",
      "source": [
        "2. Subtracts the second number from the first and prints the results."
      ],
      "metadata": {
        "id": "dORWuzISNe95"
      }
    },
    {
      "cell_type": "code",
      "source": [
        "num1 = 200\n",
        "num2 = 100\n",
        "\n",
        "result = num1 - num2\n",
        "print(\"the result is:\",result)"
      ],
      "metadata": {
        "colab": {
          "base_uri": "https://localhost:8080/"
        },
        "id": "8ph_eGh6NheH",
        "outputId": "14adf725-dca1-4278-da68-aedd085f491e"
      },
      "execution_count": 48,
      "outputs": [
        {
          "output_type": "stream",
          "name": "stdout",
          "text": [
            "the result is: 100\n"
          ]
        }
      ]
    },
    {
      "cell_type": "markdown",
      "source": [
        "3. Multiplies the two numbers and prints the results."
      ],
      "metadata": {
        "id": "bdn8PSrhN66C"
      }
    },
    {
      "cell_type": "code",
      "source": [
        "num1 = 200\n",
        "num2 = 100\n",
        "result = num1 * num2\n",
        "print(\"the result is:\",result)"
      ],
      "metadata": {
        "colab": {
          "base_uri": "https://localhost:8080/"
        },
        "id": "MfWbPsMCN9UZ",
        "outputId": "18113cf1-c431-4408-90b5-bd20ecf24eeb"
      },
      "execution_count": 49,
      "outputs": [
        {
          "output_type": "stream",
          "name": "stdout",
          "text": [
            "the result is: 20000\n"
          ]
        }
      ]
    },
    {
      "cell_type": "markdown",
      "source": [
        "4. divides the first number by the second and prints the result(handle division by zero)."
      ],
      "metadata": {
        "id": "K-ZDTRMROMFW"
      }
    },
    {
      "cell_type": "code",
      "source": [
        "num1 =  10.0\n",
        "num2 = 0.0\n",
        "try:\n",
        "    result = num1 / num2\n",
        "    print(\"The result is:\", result)\n",
        "except ZeroDivisionError:\n",
        "    print(\"Error: Division by zero is not allowed.\")"
      ],
      "metadata": {
        "colab": {
          "base_uri": "https://localhost:8080/"
        },
        "id": "2X88zWVpOPQM",
        "outputId": "b725ca27-6595-4b3f-9066-b68bc2719fa8"
      },
      "execution_count": 69,
      "outputs": [
        {
          "output_type": "stream",
          "name": "stdout",
          "text": [
            "Error: Division by zero is not allowed.\n"
          ]
        }
      ]
    },
    {
      "cell_type": "markdown",
      "source": [
        "5. converts the sum of the numbers to a string and prints the type of the results."
      ],
      "metadata": {
        "id": "0bZRLfQBQT3Q"
      }
    },
    {
      "cell_type": "code",
      "source": [
        "num1 = 5.0\n",
        "num2 = 3.5\n",
        "sum_result = num1 + num2\n",
        "sum_str = str(sum_result)\n",
        "print(\"The sum as a string is:\", sum_str)\n",
        "print(\"The type of the result is:\", type(sum_str))"
      ],
      "metadata": {
        "colab": {
          "base_uri": "https://localhost:8080/"
        },
        "id": "JRNlWpomQZb6",
        "outputId": "a454285e-fa18-4bfb-b490-1ea053aa69b0"
      },
      "execution_count": 70,
      "outputs": [
        {
          "output_type": "stream",
          "name": "stdout",
          "text": [
            "The sum as a string is: 8.5\n",
            "The type of the result is: <class 'str'>\n"
          ]
        }
      ]
    }
  ]
}